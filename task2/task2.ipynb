{
 "cells": [
  {
   "cell_type": "code",
   "execution_count": 1,
   "metadata": {},
   "outputs": [],
   "source": [
    "import pandas as pd"
   ]
  },
  {
   "cell_type": "code",
   "execution_count": 2,
   "metadata": {},
   "outputs": [],
   "source": [
    "df = pd.read_csv(filepath_or_buffer='data.txt', sep=' ', header=None)\n",
    "\n",
    "x = list(map(float, df[0].values))\n",
    "y = list(map(float, df[1].values))\n",
    "label = list(map(int, df[2].values))"
   ]
  },
  {
   "cell_type": "code",
   "execution_count": 3,
   "metadata": {},
   "outputs": [],
   "source": [
    "x1 = x[0:50]\n",
    "y1 = y[0:50]\n",
    "label1 = label[0:50]\n",
    "\n",
    "x2 = x[50:100]\n",
    "y2 = y[50:100]\n",
    "label2 = label[50:100]"
   ]
  },
  {
   "cell_type": "code",
   "execution_count": 4,
   "metadata": {},
   "outputs": [
    {
     "data": {
      "text/plain": [
       "[<matplotlib.lines.Line2D at 0x1782a844a58>]"
      ]
     },
     "execution_count": 4,
     "metadata": {},
     "output_type": "execute_result"
    }
   ],
   "source": [
    "import matplotlib.pyplot as plt\n",
    "\n",
    "plt.plot(x1, y1, 'bo')\n",
    "plt.plot(x2, y2, 'ro')"
   ]
  },
  {
   "cell_type": "code",
   "execution_count": 5,
   "metadata": {},
   "outputs": [],
   "source": [
    "import numpy as np\n",
    "\n",
    "def linear(t, x):\n",
    "    return t[0]*x[0] + t[1]*x[1] + t[2]*x[2]\n",
    "\n",
    "def sigm(x):\n",
    "    return 1. / (1 + np.e ** -x)\n",
    "\n",
    "def plot_linear(t, x):\n",
    "    return (t[0] + t[1]*x) * (-1. / t[2])"
   ]
  },
  {
   "cell_type": "code",
   "execution_count": 6,
   "metadata": {},
   "outputs": [],
   "source": [
    "t = np.random.uniform(-0.01, 0.01, 3)"
   ]
  },
  {
   "cell_type": "code",
   "execution_count": 7,
   "metadata": {},
   "outputs": [
    {
     "data": {
      "text/plain": [
       "[<matplotlib.lines.Line2D at 0x1782b5474a8>]"
      ]
     },
     "execution_count": 7,
     "metadata": {},
     "output_type": "execute_result"
    },
    {
     "data": {
      "image/png": "[encoded data removed]",
      "text/plain": [
       "<Figure size 432x288 with 1 Axes>"
      ]
     },
     "metadata": {
      "needs_background": "light"
     },
     "output_type": "display_data"
    }
   ],
   "source": [
    "plt.plot(x1, y1, 'bo')\n",
    "plt.plot(x2, y2, 'ro')\n",
    "\n",
    "liny = [plot_linear(t, m) for m in x]\n",
    "\n",
    "plt.plot(x, liny)"
   ]
  },
  {
   "cell_type": "code",
   "execution_count": 8,
   "metadata": {},
   "outputs": [],
   "source": [
    "def sgd(t, x, y, label, lr):\n",
    "    nt = t\n",
    "    for i in range(100):\n",
    "        tmpx = [1, x[i], y[i]]\n",
    "        for j in range(3):\n",
    "            nt[j] = t[j] + lr * (label[i] - sigm(linear(t, tmpx))) * tmpx[j] * sigm(linear(t, tmpx)) * (1 - sigm(linear(t, tmpx)))\n",
    "    return nt"
   ]
  },
  {
   "cell_type": "code",
   "execution_count": 9,
   "metadata": {
    "scrolled": false
   },
   "outputs": [],
   "source": [
    "lr = 0.1\n",
    "\n",
    "for _ in range(1000):\n",
    "    t = sgd(t, x, y, label, lr)"
   ]
  },
  {
   "cell_type": "code",
   "execution_count": 10,
   "metadata": {},
   "outputs": [
    {
     "data": {
      "text/plain": [
       "[<matplotlib.lines.Line2D at 0x1782b5a9fd0>]"
      ]
     },
     "execution_count": 10,
     "metadata": {},
     "output_type": "execute_result"
    },
    {
     "data": {
      "image/png": "[encoded data removed]",
      "text/plain": [
       "<Figure size 432x288 with 1 Axes>"
      ]
     },
     "metadata": {
      "needs_background": "light"
     },
     "output_type": "display_data"
    }
   ],
   "source": [
    "liny = [plot_linear(t, m) for m in x]\n",
    "\n",
    "plt.plot(x, liny)\n",
    "\n",
    "plt.plot(x1, y1, 'bo')\n",
    "plt.plot(x2, y2, 'ro')\n"
   ]
  },
  {
   "cell_type": "code",
   "execution_count": 11,
   "metadata": {},
   "outputs": [
    {
     "data": {
      "text/plain": [
       "0.009132758488340054"
      ]
     },
     "execution_count": 11,
     "metadata": {},
     "output_type": "execute_result"
    }
   ],
   "source": [
    "i = 0\n",
    "tmpx = [1, x[i], y[i]]\n",
    "label[i] - sigm(linear(t, tmpx))"
   ]
  },
  {
   "cell_type": "code",
   "execution_count": null,
   "metadata": {},
   "outputs": [],
   "source": []
  }
 ],
 "metadata": {
  "kernelspec": {
   "display_name": "Python 3",
   "language": "python",
   "name": "python3"
  },
  "language_info": {
   "codemirror_mode": {
    "name": "ipython",
    "version": 3
   },
   "file_extension": ".py",
   "mimetype": "text/x-python",
   "name": "python",
   "nbconvert_exporter": "python",
   "pygments_lexer": "ipython3",
   "version": "3.6.8"
  }
 },
 "nbformat": 4,
 "nbformat_minor": 2
}
