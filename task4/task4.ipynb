{
 "cells": [
  {
   "cell_type": "code",
   "execution_count": 1,
   "metadata": {},
   "outputs": [],
   "source": [
    "from skimage import io\n",
    "\n",
    "import matplotlib.pyplot as plt\n",
    "import numpy as np\n",
    "import os"
   ]
  },
  {
   "cell_type": "code",
   "execution_count": 2,
   "metadata": {},
   "outputs": [],
   "source": [
    "npath = './negatives/negatives/'\n",
    "ppath = './positives/positives/'\n",
    "\n",
    "def load_images(path):\n",
    "    res = []\n",
    "    for item in os.listdir(path):\n",
    "        im = io.imread(path + item).astype('float32')\n",
    "        im /= 255. \n",
    "        res.append(im)\n",
    "    return res\n",
    "\n",
    "pimgs = load_images(ppath)\n",
    "nimgs = load_images(npath)"
   ]
  },
  {
   "cell_type": "code",
   "execution_count": 3,
   "metadata": {},
   "outputs": [],
   "source": [
    "def get_mean(image):\n",
    "    return np.mean(image)\n",
    "\n",
    "pmean = [get_mean(image) for image in pimgs]\n",
    "nmean = [get_mean(image) for image in nimgs]"
   ]
  },
  {
   "cell_type": "code",
   "execution_count": 4,
   "metadata": {},
   "outputs": [],
   "source": [
    "def get_std(image):\n",
    "    return np.std(image)\n",
    "\n",
    "psd = [get_std(image) for image in pimgs]\n",
    "nsd = [get_std(image) for image in nimgs]"
   ]
  },
  {
   "cell_type": "code",
   "execution_count": 5,
   "metadata": {},
   "outputs": [],
   "source": [
    "def mean(img, dim):\n",
    "    return np.mean(img[:,:,dim])\n",
    "\n",
    "def std(img, dim):\n",
    "    return np.std(img[:,:,dim])"
   ]
  },
  {
   "cell_type": "code",
   "execution_count": 6,
   "metadata": {},
   "outputs": [],
   "source": [
    "pmeans0 = [mean(img, 0) for img in pimgs]\n",
    "pmeans1 = [mean(img, 1) for img in pimgs]\n",
    "pmeans2 = [mean(img, 2) for img in pimgs]\n",
    "\n",
    "nmeans0 = [mean(img, 0) for img in nimgs]\n",
    "nmeans1 = [mean(img, 1) for img in nimgs]\n",
    "nmeans2 = [mean(img, 2) for img in nimgs]\n",
    "\n",
    "pstds0 = [std(img, 0) for img in pimgs]\n",
    "pstds1 = [std(img, 1) for img in pimgs]\n",
    "pstds2 = [std(img, 2) for img in pimgs]\n",
    "\n",
    "nstds0 = [std(img, 0) for img in nimgs]\n",
    "nstds1 = [std(img, 1) for img in nimgs]\n",
    "nstds2 = [std(img, 2) for img in nimgs]\n",
    "\n",
    "pfeats = [pmeans0, pmeans1, pmeans2, pstds0, pstds1, pstds2]\n",
    "nfeats = [nmeans0, nmeans1, nmeans2, nstds0, nstds1, nstds2]"
   ]
  },
  {
   "cell_type": "code",
   "execution_count": 7,
   "metadata": {},
   "outputs": [],
   "source": [
    "data_true = [[feat[i] for feat in pfeats] for i in range(30)]\n",
    "data_false = [[feat[i] for feat in nfeats] for i in range(30)]\n",
    "\n",
    "labels_true = [1 for _ in range(30)]\n",
    "labels_false = [0 for _ in range(30)]"
   ]
  },
  {
   "cell_type": "code",
   "execution_count": 8,
   "metadata": {},
   "outputs": [],
   "source": [
    "data_true.extend(data_false)\n",
    "labels_true.extend(labels_false)\n",
    "\n",
    "X = data_true\n",
    "y = labels_true"
   ]
  },
  {
   "cell_type": "code",
   "execution_count": 9,
   "metadata": {},
   "outputs": [],
   "source": [
    "from sklearn.model_selection import train_test_split\n",
    "from sklearn import svm\n",
    "\n",
    "X_train, X_test, y_train, y_test = train_test_split(X, y, test_size=0.2)"
   ]
  },
  {
   "cell_type": "markdown",
   "metadata": {},
   "source": [
    "Linear kernel"
   ]
  },
  {
   "cell_type": "code",
   "execution_count": 10,
   "metadata": {},
   "outputs": [
    {
     "name": "stdout",
     "output_type": "stream",
     "text": [
      "Mean accuracy: 0.75\n",
      "SVC(C=3, cache_size=200, class_weight=None, coef0=0.0,\n",
      "  decision_function_shape='ovr', degree=3, gamma='auto_deprecated',\n",
      "  kernel='linear', max_iter=-1, probability=False, random_state=None,\n",
      "  shrinking=True, tol=0.001, verbose=False)\n"
     ]
    }
   ],
   "source": [
    "clf= svm.SVC(C=3, kernel='linear')\n",
    "clf.fit(X_train, y_train)\n",
    "print(\"Mean accuracy: \" + str(clf.score(X_test, y_test)))\n",
    "print(clf)"
   ]
  },
  {
   "cell_type": "markdown",
   "metadata": {},
   "source": [
    "Polynominal kernel"
   ]
  },
  {
   "cell_type": "code",
   "execution_count": 11,
   "metadata": {
    "scrolled": true
   },
   "outputs": [
    {
     "name": "stdout",
     "output_type": "stream",
     "text": [
      "Mean accuracy: 0.9166666666666666\n",
      "SVC(C=1.0, cache_size=200, class_weight=None, coef0=0.0,\n",
      "  decision_function_shape='ovr', degree=3, gamma='scale', kernel='poly',\n",
      "  max_iter=-1, probability=False, random_state=None, shrinking=True,\n",
      "  tol=0.001, verbose=False)\n"
     ]
    }
   ],
   "source": [
    "clf = svm.SVC(kernel='poly', gamma='scale', degree=3)\n",
    "clf.fit(X_train, y_train)\n",
    "print(\"Mean accuracy: \" + str(clf.score(X_test, y_test)))\n",
    "print(clf)"
   ]
  },
  {
   "cell_type": "markdown",
   "metadata": {},
   "source": [
    "Sigmoid kernel"
   ]
  },
  {
   "cell_type": "code",
   "execution_count": 12,
   "metadata": {},
   "outputs": [
    {
     "name": "stdout",
     "output_type": "stream",
     "text": [
      "Mean accuracy: 0.4166666666666667\n",
      "SVC(C=1.0, cache_size=200, class_weight=None, coef0=0.0,\n",
      "  decision_function_shape='ovr', degree=3, gamma='scale', kernel='sigmoid',\n",
      "  max_iter=-1, probability=False, random_state=None, shrinking=True,\n",
      "  tol=0.001, verbose=False)\n"
     ]
    }
   ],
   "source": [
    "clf = svm.SVC(kernel='sigmoid', gamma='scale')\n",
    "clf.fit(X_train, y_train)\n",
    "print(\"Mean accuracy: \" + str(clf.score(X_test, y_test)))\n",
    "print(clf)"
   ]
  },
  {
   "cell_type": "markdown",
   "metadata": {},
   "source": [
    "RBF kernel"
   ]
  },
  {
   "cell_type": "code",
   "execution_count": 13,
   "metadata": {},
   "outputs": [
    {
     "name": "stdout",
     "output_type": "stream",
     "text": [
      "Mean accuracy: 0.8333333333333334\n",
      "SVC(C=1.0, cache_size=200, class_weight=None, coef0=0.0,\n",
      "  decision_function_shape='ovr', degree=3, gamma='scale', kernel='rbf',\n",
      "  max_iter=-1, probability=False, random_state=None, shrinking=True,\n",
      "  tol=0.001, verbose=False)\n"
     ]
    }
   ],
   "source": [
    "clf = svm.SVC(kernel='rbf', gamma='scale')\n",
    "clf.fit(X_train, y_train)\n",
    "print(\"Mean accuracy: \" + str(clf.score(X_test, y_test)))\n",
    "print(clf)"
   ]
  },
  {
   "cell_type": "code",
   "execution_count": null,
   "metadata": {},
   "outputs": [],
   "source": []
  }
 ],
 "metadata": {
  "kernelspec": {
   "display_name": "Python 3",
   "language": "python",
   "name": "python3"
  },
  "language_info": {
   "codemirror_mode": {
    "name": "ipython",
    "version": 3
   },
   "file_extension": ".py",
   "mimetype": "text/x-python",
   "name": "python",
   "nbconvert_exporter": "python",
   "pygments_lexer": "ipython3",
   "version": "3.6.8"
  }
 },
 "nbformat": 4,
 "nbformat_minor": 2
}
