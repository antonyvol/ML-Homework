{
 "cells": [
  {
   "cell_type": "code",
   "execution_count": 1,
   "metadata": {},
   "outputs": [],
   "source": [
    "from skimage import io, feature\n",
    "from skimage.color import rgb2gray\n",
    "from skimage.exposure import histogram\n",
    "from skimage.feature import hog, daisy\n",
    "\n",
    "import matplotlib.pyplot as plt\n",
    "import numpy as np\n",
    "import os"
   ]
  },
  {
   "cell_type": "code",
   "execution_count": 2,
   "metadata": {},
   "outputs": [],
   "source": [
    "npath = './negatives/negatives/'\n",
    "ppath = './positives/positives/'\n",
    "\n",
    "def load_images(path):\n",
    "    res = []\n",
    "    for item in os.listdir(path):\n",
    "        im = io.imread(path + item).astype('float32')\n",
    "        im /= 255. \n",
    "        res.append(im)\n",
    "    return res\n",
    "\n",
    "pimgs = load_images(ppath)\n",
    "nimgs = load_images(npath)"
   ]
  },
  {
   "cell_type": "markdown",
   "metadata": {},
   "source": [
    "Feature: color histogram (for grayscale)"
   ]
  },
  {
   "cell_type": "code",
   "execution_count": 3,
   "metadata": {},
   "outputs": [],
   "source": [
    "def get_color_histogram(image):\n",
    "    gsc = rgb2gray(image)\n",
    "    return histogram(gsc, nbins=50)\n",
    "\n",
    "phists = [get_color_histogram(image)[0] for image in pimgs]\n",
    "nhists = [get_color_histogram(image)[0] for image in nimgs]"
   ]
  },
  {
   "cell_type": "markdown",
   "metadata": {},
   "source": [
    "Feature: HOG"
   ]
  },
  {
   "cell_type": "code",
   "execution_count": 4,
   "metadata": {},
   "outputs": [],
   "source": [
    "def get_hog(image):\n",
    "    return hog(image)\n",
    "\n",
    "phog = [get_hog(image) for image in pimgs]\n",
    "nhog = [get_hog(image) for image in nimgs]"
   ]
  },
  {
   "cell_type": "markdown",
   "metadata": {},
   "source": [
    "Feature: DAISY descriptors"
   ]
  },
  {
   "cell_type": "code",
   "execution_count": 5,
   "metadata": {},
   "outputs": [],
   "source": [
    "def get_daisy(image):\n",
    "    gsc = rgb2gray(image)\n",
    "    return daisy(gsc, radius=5)\n",
    "\n",
    "pdaisy = [get_daisy(image) for image in pimgs]\n",
    "ndaisy = [get_daisy(image) for image in nimgs]"
   ]
  },
  {
   "cell_type": "markdown",
   "metadata": {},
   "source": [
    "Feature: mean of everything"
   ]
  },
  {
   "cell_type": "code",
   "execution_count": 6,
   "metadata": {},
   "outputs": [],
   "source": [
    "def get_mean(image):\n",
    "    return np.mean(image)\n",
    "\n",
    "pmean = [get_mean(image) for image in pimgs]\n",
    "nmean = [get_mean(image) for image in nimgs]"
   ]
  },
  {
   "cell_type": "markdown",
   "metadata": {},
   "source": [
    "Feature: std of everything"
   ]
  },
  {
   "cell_type": "code",
   "execution_count": 7,
   "metadata": {},
   "outputs": [],
   "source": [
    "def get_std(image):\n",
    "    return np.std(image)\n",
    "\n",
    "psd = [get_std(image) for image in pimgs]\n",
    "nsd = [get_std(image) for image in nimgs]"
   ]
  },
  {
   "cell_type": "markdown",
   "metadata": {},
   "source": [
    "Actually useful code"
   ]
  },
  {
   "cell_type": "code",
   "execution_count": 8,
   "metadata": {},
   "outputs": [],
   "source": [
    "def mean(img, dim):\n",
    "    return np.mean(img[:,:,dim])\n",
    "\n",
    "def std(img, dim):\n",
    "    return np.std(img[:,:,dim])"
   ]
  },
  {
   "cell_type": "markdown",
   "metadata": {},
   "source": [
    "Features are: std for every channel, mean of every channel"
   ]
  },
  {
   "cell_type": "code",
   "execution_count": 9,
   "metadata": {},
   "outputs": [],
   "source": [
    "pmeans0 = [mean(img, 0) for img in pimgs]\n",
    "pmeans1 = [mean(img, 1) for img in pimgs]\n",
    "pmeans2 = [mean(img, 2) for img in pimgs]\n",
    "\n",
    "nmeans0 = [mean(img, 0) for img in nimgs]\n",
    "nmeans1 = [mean(img, 1) for img in nimgs]\n",
    "nmeans2 = [mean(img, 2) for img in nimgs]\n",
    "\n",
    "pstds0 = [std(img, 0) for img in pimgs]\n",
    "pstds1 = [std(img, 1) for img in pimgs]\n",
    "pstds2 = [std(img, 2) for img in pimgs]\n",
    "\n",
    "nstds0 = [std(img, 0) for img in nimgs]\n",
    "nstds1 = [std(img, 1) for img in nimgs]\n",
    "nstds2 = [std(img, 2) for img in nimgs]\n",
    "\n",
    "pfeats = [pmeans0, pmeans1, pmeans2, pstds0, pstds1, pstds2]\n",
    "nfeats = [nmeans0, nmeans1, nmeans2, nstds0, nstds1, nstds2]"
   ]
  },
  {
   "cell_type": "markdown",
   "metadata": {},
   "source": [
    "Prepare data for \"training\" and evaluation"
   ]
  },
  {
   "cell_type": "code",
   "execution_count": 10,
   "metadata": {},
   "outputs": [],
   "source": [
    "# n = 25\n",
    "\n",
    "# pimgs_train = pimgs[:n]\n",
    "# pimgs_eval = pimgs[n:]\n",
    "\n",
    "# nimgs_train = nimgs[:n]\n",
    "# nimgs_eval = nimgs[n:]\n",
    "\n",
    "# tpfeats = [feat[:n] for feat in pfeats]\n",
    "# epfeats = [feat[n:] for feat in pfeats]\n",
    "# tnfeats = [feat[:n] for feat in nfeats]\n",
    "# enfeats = [feat[n:] for feat in nfeats]"
   ]
  },
  {
   "cell_type": "code",
   "execution_count": 14,
   "metadata": {},
   "outputs": [],
   "source": [
    "mu_pfeats = [np.mean(x) for x in pfeats]\n",
    "mu_nfeats = [np.mean(x) for x in nfeats]"
   ]
  },
  {
   "cell_type": "code",
   "execution_count": 15,
   "metadata": {},
   "outputs": [],
   "source": [
    "phi = 0.5"
   ]
  },
  {
   "cell_type": "code",
   "execution_count": 133,
   "metadata": {},
   "outputs": [],
   "source": [
    "sigma_pfeats = []\n",
    "for i in range(len(pfeats[0])):\n",
    "    tmp = np.asarray([pfeats[j][i] - mu_pfeats[j] for j in range(len(mu_pfeats))]).reshape(6,1)\n",
    "    ttmp = np.reshape(tmp, (1,6))\n",
    "    sigma_pfeats.append(np.matmul(tmp,ttmp))\n",
    "    \n",
    "sigma_nfeats = []\n",
    "for i in range(len(nfeats[0])):\n",
    "    tmp = np.asarray([nfeats[j][i] - mu_nfeats[j] for j in range(len(mu_nfeats))]).reshape(6,1)\n",
    "    ttmp = np.reshape(tmp, (1,6))\n",
    "    sigma_nfeats.append(np.matmul(tmp,ttmp))\n",
    "    \n",
    "sigma_pfeats.extend(sigma_nfeats)\n",
    "sigma = np.mean(sigma_pfeats, axis=0)"
   ]
  },
  {
   "cell_type": "code",
   "execution_count": 139,
   "metadata": {},
   "outputs": [],
   "source": [
    "def calc_positive(feats):\n",
    "    fdiff = np.asarray([feats[j] - mu_pfeats[j] for j in range(len(mu_pfeats))]).reshape(6,1)\n",
    "    inv = np.linalg.inv(sigma)\n",
    "    det = np.linalg.det(sigma)\n",
    "    top = -0.5 * np.matmul(np.matmul(np.reshape(fdiff, (1,6)), inv), fdiff)[0][0]\n",
    "    return ( np.e ** top ) / ( (2 * np.pi) ** 3 * det ** 0.5 )\n",
    "\n",
    "\n",
    "def calc_negative(feats):\n",
    "    fdiff = np.asarray([feats[j] - mu_nfeats[j] for j in range(len(mu_nfeats))]).reshape(6,1)\n",
    "    inv = np.linalg.inv(sigma)\n",
    "    det = np.linalg.det(sigma)\n",
    "    top = -0.5 * np.matmul(np.matmul(np.reshape(fdiff, (1,6)), inv), fdiff)[0][0]\n",
    "    return ( np.e ** top ) / ( (2 * np.pi) ** 3 * det ** 0.5 )"
   ]
  },
  {
   "cell_type": "code",
   "execution_count": 146,
   "metadata": {},
   "outputs": [],
   "source": [
    "feats = [nfeats[j][0] for j in range(len(mu_pfeats))]\n",
    "\n",
    "pos = phi * calc_positive(feats)\n",
    "neg = phi * calc_negative(feats)\n",
    "\n",
    "p_pos = pos / (pos + neg)\n",
    "p_neg = neg / (pos + neg)"
   ]
  },
  {
   "cell_type": "code",
   "execution_count": 147,
   "metadata": {},
   "outputs": [
    {
     "name": "stdout",
     "output_type": "stream",
     "text": [
      "9.360492543216006e-07\n",
      "0.9999990639507456\n"
     ]
    }
   ],
   "source": [
    "print(p_pos)\n",
    "print(p_neg)"
   ]
  },
  {
   "cell_type": "code",
   "execution_count": null,
   "metadata": {},
   "outputs": [],
   "source": []
  },
  {
   "cell_type": "code",
   "execution_count": null,
   "metadata": {},
   "outputs": [],
   "source": []
  }
 ],
 "metadata": {
  "kernelspec": {
   "display_name": "Python 3",
   "language": "python",
   "name": "python3"
  },
  "language_info": {
   "codemirror_mode": {
    "name": "ipython",
    "version": 3
   },
   "file_extension": ".py",
   "mimetype": "text/x-python",
   "name": "python",
   "nbconvert_exporter": "python",
   "pygments_lexer": "ipython3",
   "version": "3.6.8"
  }
 },
 "nbformat": 4,
 "nbformat_minor": 2
}
